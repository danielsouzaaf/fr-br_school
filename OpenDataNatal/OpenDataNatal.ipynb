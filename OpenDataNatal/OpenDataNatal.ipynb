{
 "cells": [
  {
   "cell_type": "markdown",
   "metadata": {},
   "source": [
    "1. Open Data\n",
    "==\n",
    "\n",
    "Open data is the idea that some data should be freely available to everyone to use and republish as they wish, without restrictions from copyright, patents or other mechanisms of control. The goals of the open data movement are similar to those of other \"open\" movements such as [open source](https://en.wikipedia.org/wiki/Open-source_software_movement), [open hardware](https://en.wikipedia.org/wiki/Open_hardware), [open content](https://en.wikipedia.org/wiki/Open_content), [open government](https://en.wikipedia.org/wiki/Open_government) and [open access](https://en.wikipedia.org/wiki/Open_access_(publishing). The philosophy behind open data has been long established, but the term \"open data\" itself is recent, gaining popularity with the rise of the Internet and World Wide Web and, especially, with the launch of open-data government initiatives such as [Data.gov](https://en.wikipedia.org/wiki/Data.gov) and [Data.gov.uk](https://en.wikipedia.org/wiki/Data.gov.uk).\n",
    "\n",
    "In this mission we will explore the open data initiative of [Natal-RN](http://ckan.imd.ufrn.br/). \n",
    "<img width=\"600\" alt=\"creating a repo\" src=\"https://drive.google.com/uc?export=view&id=0BxhVm1REqwr0WmkzdlY2NDdMZ1k\">\n"
   ]
  },
  {
   "cell_type": "markdown",
   "metadata": {},
   "source": [
    "<br>\n",
    "<div class=\"alert alert-danger\">\n",
    "<b>Pay attention</b>\n",
    "</div>\n",
    "\n",
    "## 1.1 Main questions\n",
    "\n",
    "- How are public elementary schools and kindergartens geographically distributed? Are there shadow areas in the city?\n",
    "\n",
    "## 1.2 Datasets\n",
    "\n",
    "- Dataset #1: this dataset provides information about public elementary schools and kindergartens at Natal-RN in 2014.\n",
    " - source: http://ckan.imd.ufrn.br/dataset/quadro-das-escolas-e-cmeis-do-municipio\n"
   ]
  },
  {
   "cell_type": "markdown",
   "metadata": {},
   "source": [
    "2. Essential packages\n",
    "== "
   ]
  },
  {
   "cell_type": "markdown",
   "metadata": {},
   "source": [
    "## 2.1 Pandas\n",
    "\n",
    "Pandas is a library that unifies the most common workflows that data analysts and data scientists previously relied on many different libraries for. Pandas has quickly became an important tool in a data professional's toolbelt and is the most popular library for working with tabular data in Python. Tabular data is any data that can be represented as rows and columns.\n",
    "\n",
    "To represent tabular data, pandas uses a custom data structure called a <span style=\"background-color: #F9EBEA; color:##C0392B\">dataframe</span>. A dataframe is a highly efficient, <span style=\"background-color: #F9EBEA; color:##C0392B\">2-dimensional data structure</span> that provides a suite of methods and attributes to quickly explore, analyze, and visualize data. The dataframe is similar to the NumPy 2D array but adds support for many features that help you work with tabular data.\n",
    "\n",
    "One of the biggest advantages that pandas has over NumPy is the **ability to store mixed data types** in rows and columns. Many tabular datasets contain a range of data types and pandas dataframes handle mixed data types effortlessly while NumPy doesn't. Pandas dataframes **can also handle missing values gracefully** using a custom object, <span style=\"background-color: #F9EBEA; color:##C0392B\">NaN</span>, to represent those values. A common complaint with NumPy is its lack of an object to represent missing values and people end up having to find and replace these values manually. In addition, pandas dataframes contain axis labels for both rows and columns and enable you to refer to elements in the dataframe more intuitively. Since many tabular datasets contain column titles, this means that dataframes preserve the metadata from the file around the data.\n"
   ]
  },
  {
   "cell_type": "markdown",
   "metadata": {},
   "source": [
    "## 2.2 Folium\n",
    "\n",
    "Interactive maps are useful for data exploration and communicating research. [Leaflet](http://leafletjs.com/), an open-source JavaScript library, facilitates the development of interactive maps, but is designed to be used via JavaScript. In this mission we provide a demonstration of the [folium](http://python-visualization.github.io/folium/) package, which provides an easy to use interface to <span style=\"background-color: #F9EBEA; color:##C0392B\">Leaflet</span> for Python users.\n",
    "\n",
    "<span style=\"background-color: #F9EBEA; color:##C0392B\">folium</span> makes it easy to visualize data that’s been manipulated in Python on an interactive leaflet map. It enables both the binding of data to a map for [choropleth](https://en.wikipedia.org/wiki/Choropleth_map) visualizations as well as passing rich vector/raster/HTML visualizations as markers on the map.\n",
    "\n",
    "The library has a number of built-in <span style=\"background-color: #F9EBEA; color:##C0392B\">tilesets</span> from [OpenStreetMap](https://www.openstreetmap.org), [Mapbox](https://www.mapbox.com/), and [Stamen](http://maps.stamen.com/), and supports custom tilesets with Mapbox or Cloudmade API keys. folium supports both Image, Video, GeoJSON and TopoJSON overlays.\n",
    "\n",
    "### Instalation \n",
    "\n",
    ">```\n",
    "conda install folium -c conda-forge\n",
    "```"
   ]
  },
  {
   "cell_type": "markdown",
   "metadata": {},
   "source": [
    "## 2.3 Geocoder\n",
    "\n",
    "Geocoder is a simple and consistent geocoding library written in Python. Dealing with multiple different geocoding provider such as Google, Bing, OSM & many more has never been easier.\n",
    "\n",
    "### Instalation \n",
    "\n",
    ">```\n",
    "conda install -c conda-forge geocoder\n",
    "```"
   ]
  },
  {
   "cell_type": "markdown",
   "metadata": {},
   "source": [
    "## 2.4 Tqdm\n",
    "\n",
    "A good progress bar is a useful progress bar. To be useful, tqdm displays statistics and uses smart algorithms to predict and automagically adapt to a variety of use cases with no or minimal configuration.\n",
    "\n",
    "\n",
    "\n",
    ">```\n",
    "conda install -c conda-forge tqdm \n",
    "```"
   ]
  },
  {
   "cell_type": "markdown",
   "metadata": {},
   "source": [
    "3. Importing packages\n",
    "=="
   ]
  },
  {
   "cell_type": "code",
   "execution_count": 198,
   "metadata": {},
   "outputs": [],
   "source": [
    "import pandas as pd\n",
    "import folium\n",
    "import geocoder\n",
    "import tqdm\n",
    "from folium.plugins import HeatMap\n",
    "from folium import plugins\n",
    "from time import sleep\n",
    "from random import randint\n",
    "import branca"
   ]
  },
  {
   "cell_type": "markdown",
   "metadata": {},
   "source": [
    "4. Collect data\n",
    "=="
   ]
  },
  {
   "cell_type": "code",
   "execution_count": 199,
   "metadata": {
    "collapsed": true
   },
   "outputs": [],
   "source": [
    "# URL - see ckan.imd.ufrn.br for further information\n",
    "\n",
    "# Name, Address, Zone\n",
    "url_school = 'http://ckan.imd.ufrn.br/dataset/9b362c15-832b-4aa9-9dfe-a5e015b3ce54/resource/\\\n",
    "99e0eef6-e16c-4ed8-bf62-d6bca9626eeb/download/escolas-por-regioes-administrativas.csv'\n",
    "\n",
    "url_kgarten = 'http://ckan.imd.ufrn.br/dataset/9b362c15-832b-4aa9-9dfe-a5e015b3ce54/resource/\\\n",
    "6d8e8580-bb48-4d75-a55c-4fa04da23919/download/cmeis-por-regioes-administrativas.csv'\n",
    "\n",
    "# Read the dataset\n",
    "df_school = pd.read_csv(url_school, encoding = 'utf-8', sep = ';')\n",
    "df_kgarten = pd.read_csv(url_kgarten, encoding = 'utf-8', sep = ';')\n"
   ]
  },
  {
   "cell_type": "markdown",
   "metadata": {},
   "source": [
    "5. Exploratory data analysis (EDA)\n",
    "==\n",
    "\n",
    "## 5.1 Elementary school"
   ]
  },
  {
   "cell_type": "code",
   "execution_count": 200,
   "metadata": {},
   "outputs": [
    {
     "data": {
      "text/plain": [
       "Index(['Região Administrativa', 'CÓDIGO', 'ESTABELECIMENTO', 'ENDEREÇO', 'Nº',\n",
       "       'BAIRRO', 'CEP', 'FONE'],\n",
       "      dtype='object')"
      ]
     },
     "execution_count": 200,
     "metadata": {},
     "output_type": "execute_result"
    }
   ],
   "source": [
    "# print the columns of elementary schools dataset\n",
    "df_school.columns"
   ]
  },
  {
   "cell_type": "code",
   "execution_count": 201,
   "metadata": {},
   "outputs": [
    {
     "data": {
      "text/plain": [
       "Index(['Zones', 'Id', 'Institution_Name', 'Address', 'Number', 'Neighboor',\n",
       "       'Zip', 'Phone'],\n",
       "      dtype='object')"
      ]
     },
     "execution_count": 201,
     "metadata": {},
     "output_type": "execute_result"
    }
   ],
   "source": [
    "# translate the columns name to english\n",
    "df_school.columns = ['Zones', 'Id', 'Institution_Name', 'Address', 'Number',\n",
    "                    'Neighboor', 'Zip', 'Phone']\n",
    "df_school.columns"
   ]
  },
  {
   "cell_type": "code",
   "execution_count": 202,
   "metadata": {},
   "outputs": [
    {
     "name": "stdout",
     "output_type": "stream",
     "text": [
      "(72, 8)\n"
     ]
    }
   ],
   "source": [
    "# data size (rows, columns)\n",
    "print(df_school.shape)"
   ]
  },
  {
   "cell_type": "code",
   "execution_count": 203,
   "metadata": {},
   "outputs": [
    {
     "name": "stdout",
     "output_type": "stream",
     "text": [
      "<class 'pandas.core.frame.DataFrame'>\n",
      "RangeIndex: 72 entries, 0 to 71\n",
      "Data columns (total 8 columns):\n",
      "Zones               72 non-null object\n",
      "Id                  72 non-null int64\n",
      "Institution_Name    72 non-null object\n",
      "Address             72 non-null object\n",
      "Number              68 non-null object\n",
      "Neighboor           72 non-null object\n",
      "Zip                 72 non-null int64\n",
      "Phone               72 non-null int64\n",
      "dtypes: int64(3), object(5)\n",
      "memory usage: 4.6+ KB\n"
     ]
    }
   ],
   "source": [
    "# information about the data\n",
    "df_school.info()"
   ]
  },
  {
   "cell_type": "code",
   "execution_count": 204,
   "metadata": {
    "scrolled": true
   },
   "outputs": [
    {
     "data": {
      "text/html": [
       "<div>\n",
       "<style>\n",
       "    .dataframe thead tr:only-child th {\n",
       "        text-align: right;\n",
       "    }\n",
       "\n",
       "    .dataframe thead th {\n",
       "        text-align: left;\n",
       "    }\n",
       "\n",
       "    .dataframe tbody tr th {\n",
       "        vertical-align: top;\n",
       "    }\n",
       "</style>\n",
       "<table border=\"1\" class=\"dataframe\">\n",
       "  <thead>\n",
       "    <tr style=\"text-align: right;\">\n",
       "      <th></th>\n",
       "      <th>Zones</th>\n",
       "      <th>Id</th>\n",
       "      <th>Institution_Name</th>\n",
       "      <th>Address</th>\n",
       "      <th>Number</th>\n",
       "      <th>Neighboor</th>\n",
       "      <th>Zip</th>\n",
       "      <th>Phone</th>\n",
       "    </tr>\n",
       "  </thead>\n",
       "  <tbody>\n",
       "    <tr>\n",
       "      <th>0</th>\n",
       "      <td>SUL</td>\n",
       "      <td>24058890</td>\n",
       "      <td>ESC MUL PROF ANTÔNIO SEVERIANO</td>\n",
       "      <td>AV OURO PRETO</td>\n",
       "      <td>2754</td>\n",
       "      <td>NEÓPOLIS</td>\n",
       "      <td>59088690</td>\n",
       "      <td>32324762</td>\n",
       "    </tr>\n",
       "    <tr>\n",
       "      <th>1</th>\n",
       "      <td>SUL</td>\n",
       "      <td>24058912</td>\n",
       "      <td>ESC MUL PROF ARNALDO MONTEIRO BEZERRA</td>\n",
       "      <td>ARACITABA</td>\n",
       "      <td>2993</td>\n",
       "      <td>NEÓPOLIS</td>\n",
       "      <td>59084080</td>\n",
       "      <td>32324763</td>\n",
       "    </tr>\n",
       "    <tr>\n",
       "      <th>2</th>\n",
       "      <td>SUL</td>\n",
       "      <td>24060690</td>\n",
       "      <td>ESC MUL PROF ASCENDINO DE ALMEIDA</td>\n",
       "      <td>RUA JOAQUIM CARDOSO</td>\n",
       "      <td>NaN</td>\n",
       "      <td>PITIMBU</td>\n",
       "      <td>59069010</td>\n",
       "      <td>32324767</td>\n",
       "    </tr>\n",
       "    <tr>\n",
       "      <th>3</th>\n",
       "      <td>SUL</td>\n",
       "      <td>24058793</td>\n",
       "      <td>ESC MUL PROF CARLOS BELLO MORENO</td>\n",
       "      <td>RUA ARAPIRACA</td>\n",
       "      <td>SN</td>\n",
       "      <td>NEÓPOLIS</td>\n",
       "      <td>59086210</td>\n",
       "      <td>32324761</td>\n",
       "    </tr>\n",
       "    <tr>\n",
       "      <th>4</th>\n",
       "      <td>SUL</td>\n",
       "      <td>24075710</td>\n",
       "      <td>ESC MUL PROF OTTO DE BRITO GUERRA</td>\n",
       "      <td>RUA SERRA DA JUREMA</td>\n",
       "      <td>SN</td>\n",
       "      <td>PITIMBU</td>\n",
       "      <td>59068150</td>\n",
       "      <td>32328373</td>\n",
       "    </tr>\n",
       "  </tbody>\n",
       "</table>\n",
       "</div>"
      ],
      "text/plain": [
       "  Zones        Id                       Institution_Name              Address  \\\n",
       "0   SUL  24058890         ESC MUL PROF ANTÔNIO SEVERIANO        AV OURO PRETO   \n",
       "1   SUL  24058912  ESC MUL PROF ARNALDO MONTEIRO BEZERRA            ARACITABA   \n",
       "2   SUL  24060690      ESC MUL PROF ASCENDINO DE ALMEIDA  RUA JOAQUIM CARDOSO   \n",
       "3   SUL  24058793       ESC MUL PROF CARLOS BELLO MORENO        RUA ARAPIRACA   \n",
       "4   SUL  24075710      ESC MUL PROF OTTO DE BRITO GUERRA  RUA SERRA DA JUREMA   \n",
       "\n",
       "  Number Neighboor       Zip     Phone  \n",
       "0   2754  NEÓPOLIS  59088690  32324762  \n",
       "1   2993  NEÓPOLIS  59084080  32324763  \n",
       "2    NaN   PITIMBU  59069010  32324767  \n",
       "3     SN  NEÓPOLIS  59086210  32324761  \n",
       "4     SN   PITIMBU  59068150  32328373  "
      ]
     },
     "execution_count": 204,
     "metadata": {},
     "output_type": "execute_result"
    }
   ],
   "source": [
    "# print the first 5 rows\n",
    "df_school.head()"
   ]
  },
  {
   "cell_type": "markdown",
   "metadata": {},
   "source": [
    "## 5.2 Kindergarten"
   ]
  },
  {
   "cell_type": "code",
   "execution_count": 111,
   "metadata": {
    "scrolled": true
   },
   "outputs": [
    {
     "data": {
      "text/plain": [
       "Index(['Região Administrativa', 'CÓDIGO', 'ESTABELECIMENTO', 'ENDEREÇO', 'Nº',\n",
       "       'BAIRRO', 'CEP', 'FONE'],\n",
       "      dtype='object')"
      ]
     },
     "execution_count": 111,
     "metadata": {},
     "output_type": "execute_result"
    }
   ],
   "source": [
    "# print the columns of kindergarten dataset\n",
    "df_kgarten.columns"
   ]
  },
  {
   "cell_type": "code",
   "execution_count": 112,
   "metadata": {},
   "outputs": [
    {
     "data": {
      "text/plain": [
       "Index(['Zones', 'Id', 'Institution_Name', 'Address', 'Number', 'Neighboor',\n",
       "       'Zip', 'Phone'],\n",
       "      dtype='object')"
      ]
     },
     "execution_count": 112,
     "metadata": {},
     "output_type": "execute_result"
    }
   ],
   "source": [
    "# translate the columns name to english\n",
    "df_kgarten.columns = ['Zones', 'Id', 'Institution_Name', 'Address', 'Number',\n",
    "                    'Neighboor', 'Zip', 'Phone']\n",
    "df_kgarten.columns"
   ]
  },
  {
   "cell_type": "code",
   "execution_count": 113,
   "metadata": {},
   "outputs": [
    {
     "data": {
      "text/plain": [
       "(73, 8)"
      ]
     },
     "execution_count": 113,
     "metadata": {},
     "output_type": "execute_result"
    }
   ],
   "source": [
    "# data size (rows, columns)\n",
    "df_kgarten.shape"
   ]
  },
  {
   "cell_type": "code",
   "execution_count": 114,
   "metadata": {},
   "outputs": [
    {
     "name": "stdout",
     "output_type": "stream",
     "text": [
      "<class 'pandas.core.frame.DataFrame'>\n",
      "RangeIndex: 73 entries, 0 to 72\n",
      "Data columns (total 8 columns):\n",
      "Zones               73 non-null object\n",
      "Id                  73 non-null int64\n",
      "Institution_Name    73 non-null object\n",
      "Address             72 non-null object\n",
      "Number              72 non-null object\n",
      "Neighboor           73 non-null object\n",
      "Zip                 73 non-null int64\n",
      "Phone               67 non-null float64\n",
      "dtypes: float64(1), int64(2), object(5)\n",
      "memory usage: 4.6+ KB\n"
     ]
    }
   ],
   "source": [
    "# information about the data\n",
    "df_kgarten.info()"
   ]
  },
  {
   "cell_type": "code",
   "execution_count": 115,
   "metadata": {
    "scrolled": false
   },
   "outputs": [
    {
     "data": {
      "text/html": [
       "<div>\n",
       "<style>\n",
       "    .dataframe thead tr:only-child th {\n",
       "        text-align: right;\n",
       "    }\n",
       "\n",
       "    .dataframe thead th {\n",
       "        text-align: left;\n",
       "    }\n",
       "\n",
       "    .dataframe tbody tr th {\n",
       "        vertical-align: top;\n",
       "    }\n",
       "</style>\n",
       "<table border=\"1\" class=\"dataframe\">\n",
       "  <thead>\n",
       "    <tr style=\"text-align: right;\">\n",
       "      <th></th>\n",
       "      <th>Zones</th>\n",
       "      <th>Id</th>\n",
       "      <th>Institution_Name</th>\n",
       "      <th>Address</th>\n",
       "      <th>Number</th>\n",
       "      <th>Neighboor</th>\n",
       "      <th>Zip</th>\n",
       "      <th>Phone</th>\n",
       "    </tr>\n",
       "  </thead>\n",
       "  <tbody>\n",
       "    <tr>\n",
       "      <th>0</th>\n",
       "      <td>SUL</td>\n",
       "      <td>24077720</td>\n",
       "      <td>CMEI CLAUDETE COSTA MACIEL</td>\n",
       "      <td>RUA SERRA DOS CARAJAS</td>\n",
       "      <td>3160</td>\n",
       "      <td>PITIMBU</td>\n",
       "      <td>59068200</td>\n",
       "      <td>32328403.0</td>\n",
       "    </tr>\n",
       "    <tr>\n",
       "      <th>1</th>\n",
       "      <td>SUL</td>\n",
       "      <td>24077739</td>\n",
       "      <td>CMEI HAYDEE MONTEIRO BEZERRA DE MELO</td>\n",
       "      <td>RUA JOSÉ SELEDON</td>\n",
       "      <td>70</td>\n",
       "      <td>PONTA NEGRA</td>\n",
       "      <td>59090215</td>\n",
       "      <td>32328413.0</td>\n",
       "    </tr>\n",
       "    <tr>\n",
       "      <th>2</th>\n",
       "      <td>SUL</td>\n",
       "      <td>24056936</td>\n",
       "      <td>CMEI KÁTIA FAGUNDES GARCIA</td>\n",
       "      <td>RUA PROFESSORA ANA DJANIRA</td>\n",
       "      <td>1960</td>\n",
       "      <td>CANDELÁRIA</td>\n",
       "      <td>59064480</td>\n",
       "      <td>87291989.0</td>\n",
       "    </tr>\n",
       "    <tr>\n",
       "      <th>3</th>\n",
       "      <td>SUL</td>\n",
       "      <td>24077267</td>\n",
       "      <td>CMEI MARIA CELONI CAMPOS</td>\n",
       "      <td>RUA BAIA FORMOSÁ</td>\n",
       "      <td>1517</td>\n",
       "      <td>LAGOA NOVA II</td>\n",
       "      <td>59063060</td>\n",
       "      <td>32329443.0</td>\n",
       "    </tr>\n",
       "    <tr>\n",
       "      <th>4</th>\n",
       "      <td>SUL</td>\n",
       "      <td>24077500</td>\n",
       "      <td>CMEI MOEMA TINOCO DA CUNHA LIMA</td>\n",
       "      <td>RUA JACUI</td>\n",
       "      <td>217</td>\n",
       "      <td>NEÓPOLIS</td>\n",
       "      <td>59080270</td>\n",
       "      <td>32328376.0</td>\n",
       "    </tr>\n",
       "  </tbody>\n",
       "</table>\n",
       "</div>"
      ],
      "text/plain": [
       "  Zones        Id                      Institution_Name  \\\n",
       "0   SUL  24077720            CMEI CLAUDETE COSTA MACIEL   \n",
       "1   SUL  24077739  CMEI HAYDEE MONTEIRO BEZERRA DE MELO   \n",
       "2   SUL  24056936            CMEI KÁTIA FAGUNDES GARCIA   \n",
       "3   SUL  24077267              CMEI MARIA CELONI CAMPOS   \n",
       "4   SUL  24077500       CMEI MOEMA TINOCO DA CUNHA LIMA   \n",
       "\n",
       "                      Address Number      Neighboor       Zip       Phone  \n",
       "0       RUA SERRA DOS CARAJAS   3160        PITIMBU  59068200  32328403.0  \n",
       "1            RUA JOSÉ SELEDON     70    PONTA NEGRA  59090215  32328413.0  \n",
       "2  RUA PROFESSORA ANA DJANIRA   1960     CANDELÁRIA  59064480  87291989.0  \n",
       "3            RUA BAIA FORMOSÁ   1517  LAGOA NOVA II  59063060  32329443.0  \n",
       "4                   RUA JACUI    217       NEÓPOLIS  59080270  32328376.0  "
      ]
     },
     "execution_count": 115,
     "metadata": {},
     "output_type": "execute_result"
    }
   ],
   "source": [
    "# print the first 5 rows \n",
    "df_kgarten.head()"
   ]
  },
  {
   "cell_type": "markdown",
   "metadata": {},
   "source": [
    "## 5.3 Grouping data by region\n",
    "### Number of institutions vs Zones"
   ]
  },
  {
   "cell_type": "code",
   "execution_count": 116,
   "metadata": {},
   "outputs": [
    {
     "data": {
      "text/plain": [
       "array(['SUL', 'LESTE', 'OESTE', 'NORTE'], dtype=object)"
      ]
     },
     "execution_count": 116,
     "metadata": {},
     "output_type": "execute_result"
    }
   ],
   "source": [
    "# unique values to column 'Zones'\n",
    "df_school.Zones.unique()"
   ]
  },
  {
   "cell_type": "code",
   "execution_count": 117,
   "metadata": {},
   "outputs": [
    {
     "data": {
      "text/plain": [
       "array(['SUL', 'LESTE', 'OESTE', 'NORTE'], dtype=object)"
      ]
     },
     "execution_count": 117,
     "metadata": {},
     "output_type": "execute_result"
    }
   ],
   "source": [
    "# unique values to column 'Zones'\n",
    "df_kgarten.Zones.unique()"
   ]
  },
  {
   "cell_type": "code",
   "execution_count": 118,
   "metadata": {},
   "outputs": [
    {
     "data": {
      "text/html": [
       "<div>\n",
       "<style>\n",
       "    .dataframe thead tr:only-child th {\n",
       "        text-align: right;\n",
       "    }\n",
       "\n",
       "    .dataframe thead th {\n",
       "        text-align: left;\n",
       "    }\n",
       "\n",
       "    .dataframe tbody tr th {\n",
       "        vertical-align: top;\n",
       "    }\n",
       "</style>\n",
       "<table border=\"1\" class=\"dataframe\">\n",
       "  <thead>\n",
       "    <tr style=\"text-align: right;\">\n",
       "      <th></th>\n",
       "      <th>Id</th>\n",
       "    </tr>\n",
       "    <tr>\n",
       "      <th>Zones</th>\n",
       "      <th></th>\n",
       "    </tr>\n",
       "  </thead>\n",
       "  <tbody>\n",
       "    <tr>\n",
       "      <th>LESTE</th>\n",
       "      <td>9</td>\n",
       "    </tr>\n",
       "    <tr>\n",
       "      <th>NORTE</th>\n",
       "      <td>34</td>\n",
       "    </tr>\n",
       "    <tr>\n",
       "      <th>OESTE</th>\n",
       "      <td>21</td>\n",
       "    </tr>\n",
       "    <tr>\n",
       "      <th>SUL</th>\n",
       "      <td>8</td>\n",
       "    </tr>\n",
       "  </tbody>\n",
       "</table>\n",
       "</div>"
      ],
      "text/plain": [
       "       Id\n",
       "Zones    \n",
       "LESTE   9\n",
       "NORTE  34\n",
       "OESTE  21\n",
       "SUL     8"
      ]
     },
     "execution_count": 118,
     "metadata": {},
     "output_type": "execute_result"
    }
   ],
   "source": [
    "# grouping by values in elementary schools\n",
    "df_school.pivot_table(index='Zones', values='Id', aggfunc='count')"
   ]
  },
  {
   "cell_type": "code",
   "execution_count": 119,
   "metadata": {},
   "outputs": [
    {
     "data": {
      "text/html": [
       "<div>\n",
       "<style>\n",
       "    .dataframe thead tr:only-child th {\n",
       "        text-align: right;\n",
       "    }\n",
       "\n",
       "    .dataframe thead th {\n",
       "        text-align: left;\n",
       "    }\n",
       "\n",
       "    .dataframe tbody tr th {\n",
       "        vertical-align: top;\n",
       "    }\n",
       "</style>\n",
       "<table border=\"1\" class=\"dataframe\">\n",
       "  <thead>\n",
       "    <tr style=\"text-align: right;\">\n",
       "      <th></th>\n",
       "      <th>Id</th>\n",
       "    </tr>\n",
       "    <tr>\n",
       "      <th>Zones</th>\n",
       "      <th></th>\n",
       "    </tr>\n",
       "  </thead>\n",
       "  <tbody>\n",
       "    <tr>\n",
       "      <th>LESTE</th>\n",
       "      <td>10</td>\n",
       "    </tr>\n",
       "    <tr>\n",
       "      <th>NORTE</th>\n",
       "      <td>27</td>\n",
       "    </tr>\n",
       "    <tr>\n",
       "      <th>OESTE</th>\n",
       "      <td>24</td>\n",
       "    </tr>\n",
       "    <tr>\n",
       "      <th>SUL</th>\n",
       "      <td>12</td>\n",
       "    </tr>\n",
       "  </tbody>\n",
       "</table>\n",
       "</div>"
      ],
      "text/plain": [
       "       Id\n",
       "Zones    \n",
       "LESTE  10\n",
       "NORTE  27\n",
       "OESTE  24\n",
       "SUL    12"
      ]
     },
     "execution_count": 119,
     "metadata": {},
     "output_type": "execute_result"
    }
   ],
   "source": [
    "# grouping by values in kindergarten\n",
    "df_kgarten.pivot_table(index='Zones', values='Id', aggfunc='count')"
   ]
  },
  {
   "cell_type": "markdown",
   "metadata": {},
   "source": [
    "6. Preparing the data\n",
    "=="
   ]
  },
  {
   "cell_type": "markdown",
   "metadata": {},
   "source": [
    "### 6.1 Normalize the missing data"
   ]
  },
  {
   "cell_type": "code",
   "execution_count": 120,
   "metadata": {},
   "outputs": [],
   "source": [
    "# Normalize NaN values on 'Nº' column\n",
    "df_school.loc[:, 'Number'].fillna('', inplace=True)\n",
    "\n",
    "# Normalize the unidentified address\n",
    "df_school.loc[df_school[df_school['Number'] == 'SN'].index,'Number'] = ''\n",
    "df_kgarten.loc[df_kgarten[df_kgarten['Number'] == 'SN'].index,'Number'] = ''\n",
    "\n",
    "# Normalize NaN values on 'Address' and 'Number' column\n",
    "df_kgarten.loc[:, 'Address'].fillna('', inplace=True)\n",
    "df_kgarten.loc[:, 'Number'].fillna('', inplace=True)"
   ]
  },
  {
   "cell_type": "code",
   "execution_count": 121,
   "metadata": {},
   "outputs": [
    {
     "name": "stdout",
     "output_type": "stream",
     "text": [
      "<class 'pandas.core.frame.DataFrame'>\n",
      "RangeIndex: 73 entries, 0 to 72\n",
      "Data columns (total 8 columns):\n",
      "Zones               73 non-null object\n",
      "Id                  73 non-null int64\n",
      "Institution_Name    73 non-null object\n",
      "Address             73 non-null object\n",
      "Number              73 non-null object\n",
      "Neighboor           73 non-null object\n",
      "Zip                 73 non-null int64\n",
      "Phone               67 non-null float64\n",
      "dtypes: float64(1), int64(2), object(5)\n",
      "memory usage: 4.6+ KB\n"
     ]
    }
   ],
   "source": [
    "df_kgarten.info()"
   ]
  },
  {
   "cell_type": "markdown",
   "metadata": {},
   "source": [
    "### 6.2 Preparing  geocoder information for education units"
   ]
  },
  {
   "cell_type": "code",
   "execution_count": 123,
   "metadata": {},
   "outputs": [
    {
     "data": {
      "text/html": [
       "<div>\n",
       "<style>\n",
       "    .dataframe thead tr:only-child th {\n",
       "        text-align: right;\n",
       "    }\n",
       "\n",
       "    .dataframe thead th {\n",
       "        text-align: left;\n",
       "    }\n",
       "\n",
       "    .dataframe tbody tr th {\n",
       "        vertical-align: top;\n",
       "    }\n",
       "</style>\n",
       "<table border=\"1\" class=\"dataframe\">\n",
       "  <thead>\n",
       "    <tr style=\"text-align: right;\">\n",
       "      <th></th>\n",
       "      <th>Institution_Name</th>\n",
       "      <th>Type</th>\n",
       "      <th>Geocode_Input</th>\n",
       "      <th>Lat</th>\n",
       "      <th>Lng</th>\n",
       "    </tr>\n",
       "  </thead>\n",
       "  <tbody>\n",
       "    <tr>\n",
       "      <th>0</th>\n",
       "      <td>ESC MUL PROF ANTÔNIO SEVERIANO</td>\n",
       "      <td>Elem</td>\n",
       "      <td>AV OURO PRETO, 2754, NATAL-RN</td>\n",
       "      <td>0</td>\n",
       "      <td>0</td>\n",
       "    </tr>\n",
       "    <tr>\n",
       "      <th>1</th>\n",
       "      <td>ESC MUL PROF ARNALDO MONTEIRO BEZERRA</td>\n",
       "      <td>Elem</td>\n",
       "      <td>ARACITABA, 2993, NATAL-RN</td>\n",
       "      <td>0</td>\n",
       "      <td>0</td>\n",
       "    </tr>\n",
       "    <tr>\n",
       "      <th>2</th>\n",
       "      <td>ESC MUL PROF ASCENDINO DE ALMEIDA</td>\n",
       "      <td>Elem</td>\n",
       "      <td>RUA JOAQUIM CARDOSO, , NATAL-RN</td>\n",
       "      <td>0</td>\n",
       "      <td>0</td>\n",
       "    </tr>\n",
       "    <tr>\n",
       "      <th>3</th>\n",
       "      <td>ESC MUL PROF CARLOS BELLO MORENO</td>\n",
       "      <td>Elem</td>\n",
       "      <td>RUA ARAPIRACA, , NATAL-RN</td>\n",
       "      <td>0</td>\n",
       "      <td>0</td>\n",
       "    </tr>\n",
       "    <tr>\n",
       "      <th>4</th>\n",
       "      <td>ESC MUL PROF OTTO DE BRITO GUERRA</td>\n",
       "      <td>Elem</td>\n",
       "      <td>RUA SERRA DA JUREMA, , NATAL-RN</td>\n",
       "      <td>0</td>\n",
       "      <td>0</td>\n",
       "    </tr>\n",
       "  </tbody>\n",
       "</table>\n",
       "</div>"
      ],
      "text/plain": [
       "                        Institution_Name  Type  \\\n",
       "0         ESC MUL PROF ANTÔNIO SEVERIANO  Elem   \n",
       "1  ESC MUL PROF ARNALDO MONTEIRO BEZERRA  Elem   \n",
       "2      ESC MUL PROF ASCENDINO DE ALMEIDA  Elem   \n",
       "3       ESC MUL PROF CARLOS BELLO MORENO  Elem   \n",
       "4      ESC MUL PROF OTTO DE BRITO GUERRA  Elem   \n",
       "\n",
       "                     Geocode_Input  Lat  Lng  \n",
       "0    AV OURO PRETO, 2754, NATAL-RN    0    0  \n",
       "1        ARACITABA, 2993, NATAL-RN    0    0  \n",
       "2  RUA JOAQUIM CARDOSO, , NATAL-RN    0    0  \n",
       "3        RUA ARAPIRACA, , NATAL-RN    0    0  \n",
       "4  RUA SERRA DA JUREMA, , NATAL-RN    0    0  "
      ]
     },
     "execution_count": 123,
     "metadata": {},
     "output_type": "execute_result"
    }
   ],
   "source": [
    "# Elementary Schools\n",
    "\n",
    "# convert the colum 'CEP' to str\n",
    "df_school['Zip'] = df_school['Zip'].astype(str)\n",
    "\n",
    "# Address\n",
    "df_school['Geocode_Input'] = df_school['Address'] + ', ' + df_school['Number'] + ', NATAL-RN'\n",
    "\n",
    "# Initialize Lat and Lng\n",
    "df_school['Lat'], df_school['Lng'] = [0, 0]\n",
    "\n",
    "# Type of education unit\n",
    "df_school['Type'] = 'Elem'\n",
    "\n",
    "# New dataset \n",
    "df_school = df_school[['Institution_Name', 'Type', 'Geocode_Input', 'Lat', 'Lng']]\n",
    "\n",
    "# See the modification\n",
    "df_school.head()"
   ]
  },
  {
   "cell_type": "code",
   "execution_count": 124,
   "metadata": {},
   "outputs": [
    {
     "data": {
      "text/html": [
       "<div>\n",
       "<style>\n",
       "    .dataframe thead tr:only-child th {\n",
       "        text-align: right;\n",
       "    }\n",
       "\n",
       "    .dataframe thead th {\n",
       "        text-align: left;\n",
       "    }\n",
       "\n",
       "    .dataframe tbody tr th {\n",
       "        vertical-align: top;\n",
       "    }\n",
       "</style>\n",
       "<table border=\"1\" class=\"dataframe\">\n",
       "  <thead>\n",
       "    <tr style=\"text-align: right;\">\n",
       "      <th></th>\n",
       "      <th>Institution_Name</th>\n",
       "      <th>Type</th>\n",
       "      <th>Geocode_Input</th>\n",
       "      <th>Lat</th>\n",
       "      <th>Lng</th>\n",
       "    </tr>\n",
       "  </thead>\n",
       "  <tbody>\n",
       "    <tr>\n",
       "      <th>0</th>\n",
       "      <td>CMEI CLAUDETE COSTA MACIEL</td>\n",
       "      <td>kgar</td>\n",
       "      <td>RUA SERRA DOS CARAJAS, 3160, NATAL-RN</td>\n",
       "      <td>0</td>\n",
       "      <td>0</td>\n",
       "    </tr>\n",
       "    <tr>\n",
       "      <th>1</th>\n",
       "      <td>CMEI HAYDEE MONTEIRO BEZERRA DE MELO</td>\n",
       "      <td>kgar</td>\n",
       "      <td>RUA JOSÉ SELEDON, 70, NATAL-RN</td>\n",
       "      <td>0</td>\n",
       "      <td>0</td>\n",
       "    </tr>\n",
       "    <tr>\n",
       "      <th>2</th>\n",
       "      <td>CMEI KÁTIA FAGUNDES GARCIA</td>\n",
       "      <td>kgar</td>\n",
       "      <td>RUA PROFESSORA ANA DJANIRA, 1960, NATAL-RN</td>\n",
       "      <td>0</td>\n",
       "      <td>0</td>\n",
       "    </tr>\n",
       "    <tr>\n",
       "      <th>3</th>\n",
       "      <td>CMEI MARIA CELONI CAMPOS</td>\n",
       "      <td>kgar</td>\n",
       "      <td>RUA BAIA FORMOSÁ, 1517, NATAL-RN</td>\n",
       "      <td>0</td>\n",
       "      <td>0</td>\n",
       "    </tr>\n",
       "    <tr>\n",
       "      <th>4</th>\n",
       "      <td>CMEI MOEMA TINOCO DA CUNHA LIMA</td>\n",
       "      <td>kgar</td>\n",
       "      <td>RUA JACUI, 217, NATAL-RN</td>\n",
       "      <td>0</td>\n",
       "      <td>0</td>\n",
       "    </tr>\n",
       "  </tbody>\n",
       "</table>\n",
       "</div>"
      ],
      "text/plain": [
       "                       Institution_Name  Type  \\\n",
       "0            CMEI CLAUDETE COSTA MACIEL  kgar   \n",
       "1  CMEI HAYDEE MONTEIRO BEZERRA DE MELO  kgar   \n",
       "2            CMEI KÁTIA FAGUNDES GARCIA  kgar   \n",
       "3              CMEI MARIA CELONI CAMPOS  kgar   \n",
       "4       CMEI MOEMA TINOCO DA CUNHA LIMA  kgar   \n",
       "\n",
       "                                Geocode_Input  Lat  Lng  \n",
       "0       RUA SERRA DOS CARAJAS, 3160, NATAL-RN    0    0  \n",
       "1              RUA JOSÉ SELEDON, 70, NATAL-RN    0    0  \n",
       "2  RUA PROFESSORA ANA DJANIRA, 1960, NATAL-RN    0    0  \n",
       "3            RUA BAIA FORMOSÁ, 1517, NATAL-RN    0    0  \n",
       "4                    RUA JACUI, 217, NATAL-RN    0    0  "
      ]
     },
     "execution_count": 124,
     "metadata": {},
     "output_type": "execute_result"
    }
   ],
   "source": [
    "# Kindergarten\n",
    "\n",
    "# convert the colum 'CEP' to str\n",
    "df_kgarten['Zip'] = df_kgarten['Zip'].astype(str)\n",
    "\n",
    "# Address\n",
    "df_kgarten['Geocode_Input'] = df_kgarten['Address'] + ', ' \\\n",
    "    + df_kgarten['Number'] + ', NATAL-RN'\n",
    "\n",
    "# Initialize Lat and Lng\n",
    "df_kgarten['Lat'], df_kgarten['Lng'] = [0, 0]\n",
    "\n",
    "# Type of education unit\n",
    "df_kgarten['Type'] = 'kgar'\n",
    "\n",
    "# New dataset \n",
    "df_kgarten = df_kgarten[['Institution_Name', 'Type', 'Geocode_Input', 'Lat', 'Lng']]\n",
    "\n",
    "# See the modification\n",
    "df_kgarten.head()"
   ]
  },
  {
   "cell_type": "markdown",
   "metadata": {},
   "source": [
    "### 6.3 Concatenate the dataframe"
   ]
  },
  {
   "cell_type": "code",
   "execution_count": 149,
   "metadata": {
    "collapsed": true
   },
   "outputs": [],
   "source": [
    "# Concatenate the dataframe\n",
    "frames = [df_kgarten, df_school]\n",
    "df_all_units = pd.concat(frames, ignore_index = True) "
   ]
  },
  {
   "cell_type": "code",
   "execution_count": 151,
   "metadata": {
    "scrolled": true
   },
   "outputs": [
    {
     "data": {
      "text/html": [
       "<div>\n",
       "<style>\n",
       "    .dataframe thead tr:only-child th {\n",
       "        text-align: right;\n",
       "    }\n",
       "\n",
       "    .dataframe thead th {\n",
       "        text-align: left;\n",
       "    }\n",
       "\n",
       "    .dataframe tbody tr th {\n",
       "        vertical-align: top;\n",
       "    }\n",
       "</style>\n",
       "<table border=\"1\" class=\"dataframe\">\n",
       "  <thead>\n",
       "    <tr style=\"text-align: right;\">\n",
       "      <th></th>\n",
       "      <th>Institution_Name</th>\n",
       "      <th>Type</th>\n",
       "      <th>Geocode_Input</th>\n",
       "      <th>Lat</th>\n",
       "      <th>Lng</th>\n",
       "    </tr>\n",
       "  </thead>\n",
       "  <tbody>\n",
       "    <tr>\n",
       "      <th>0</th>\n",
       "      <td>CMEI CLAUDETE COSTA MACIEL</td>\n",
       "      <td>kgar</td>\n",
       "      <td>RUA SERRA DOS CARAJAS, 3160, NATAL-RN</td>\n",
       "      <td>0</td>\n",
       "      <td>0</td>\n",
       "    </tr>\n",
       "    <tr>\n",
       "      <th>1</th>\n",
       "      <td>CMEI HAYDEE MONTEIRO BEZERRA DE MELO</td>\n",
       "      <td>kgar</td>\n",
       "      <td>RUA JOSÉ SELEDON, 70, NATAL-RN</td>\n",
       "      <td>0</td>\n",
       "      <td>0</td>\n",
       "    </tr>\n",
       "    <tr>\n",
       "      <th>2</th>\n",
       "      <td>CMEI KÁTIA FAGUNDES GARCIA</td>\n",
       "      <td>kgar</td>\n",
       "      <td>RUA PROFESSORA ANA DJANIRA, 1960, NATAL-RN</td>\n",
       "      <td>0</td>\n",
       "      <td>0</td>\n",
       "    </tr>\n",
       "    <tr>\n",
       "      <th>3</th>\n",
       "      <td>CMEI MARIA CELONI CAMPOS</td>\n",
       "      <td>kgar</td>\n",
       "      <td>RUA BAIA FORMOSÁ, 1517, NATAL-RN</td>\n",
       "      <td>0</td>\n",
       "      <td>0</td>\n",
       "    </tr>\n",
       "    <tr>\n",
       "      <th>4</th>\n",
       "      <td>CMEI MOEMA TINOCO DA CUNHA LIMA</td>\n",
       "      <td>kgar</td>\n",
       "      <td>RUA JACUI, 217, NATAL-RN</td>\n",
       "      <td>0</td>\n",
       "      <td>0</td>\n",
       "    </tr>\n",
       "  </tbody>\n",
       "</table>\n",
       "</div>"
      ],
      "text/plain": [
       "                       Institution_Name  Type  \\\n",
       "0            CMEI CLAUDETE COSTA MACIEL  kgar   \n",
       "1  CMEI HAYDEE MONTEIRO BEZERRA DE MELO  kgar   \n",
       "2            CMEI KÁTIA FAGUNDES GARCIA  kgar   \n",
       "3              CMEI MARIA CELONI CAMPOS  kgar   \n",
       "4       CMEI MOEMA TINOCO DA CUNHA LIMA  kgar   \n",
       "\n",
       "                                Geocode_Input  Lat  Lng  \n",
       "0       RUA SERRA DOS CARAJAS, 3160, NATAL-RN    0    0  \n",
       "1              RUA JOSÉ SELEDON, 70, NATAL-RN    0    0  \n",
       "2  RUA PROFESSORA ANA DJANIRA, 1960, NATAL-RN    0    0  \n",
       "3            RUA BAIA FORMOSÁ, 1517, NATAL-RN    0    0  \n",
       "4                    RUA JACUI, 217, NATAL-RN    0    0  "
      ]
     },
     "execution_count": 151,
     "metadata": {},
     "output_type": "execute_result"
    }
   ],
   "source": [
    "# see the modifications\n",
    "df_all_units.head()"
   ]
  },
  {
   "cell_type": "markdown",
   "metadata": {},
   "source": [
    "### 6.4 Calculate the geolocalization from Geocoder\n",
    "\n",
    "The Geocoder API can block your request if multiples queries using the same IP address are sent simultaneously. Thus we recommend load the dataset available in repository (edunatal.csv).\n"
   ]
  },
  {
   "cell_type": "code",
   "execution_count": 148,
   "metadata": {},
   "outputs": [
    {
     "data": {
      "text/html": [
       "<div>\n",
       "<style>\n",
       "    .dataframe thead tr:only-child th {\n",
       "        text-align: right;\n",
       "    }\n",
       "\n",
       "    .dataframe thead th {\n",
       "        text-align: left;\n",
       "    }\n",
       "\n",
       "    .dataframe tbody tr th {\n",
       "        vertical-align: top;\n",
       "    }\n",
       "</style>\n",
       "<table border=\"1\" class=\"dataframe\">\n",
       "  <thead>\n",
       "    <tr style=\"text-align: right;\">\n",
       "      <th></th>\n",
       "      <th>Unnamed: 0</th>\n",
       "      <th>Institution_Name</th>\n",
       "      <th>Type</th>\n",
       "      <th>Geocode_Input</th>\n",
       "      <th>Lat</th>\n",
       "      <th>Lng</th>\n",
       "    </tr>\n",
       "  </thead>\n",
       "  <tbody>\n",
       "    <tr>\n",
       "      <th>0</th>\n",
       "      <td>0</td>\n",
       "      <td>CMEI CLAUDETE COSTA MACIEL</td>\n",
       "      <td>kgar</td>\n",
       "      <td>RUA SERRA DOS CARAJAS, 3160, NATAL-RN</td>\n",
       "      <td>-5.857714</td>\n",
       "      <td>-35.242055</td>\n",
       "    </tr>\n",
       "    <tr>\n",
       "      <th>1</th>\n",
       "      <td>1</td>\n",
       "      <td>CMEI HAYDEE MONTEIRO BEZERRA DE MELO</td>\n",
       "      <td>kgar</td>\n",
       "      <td>RUA JOSÉ SELEDON, 70, NATAL-RN</td>\n",
       "      <td>-5.889386</td>\n",
       "      <td>-35.171153</td>\n",
       "    </tr>\n",
       "    <tr>\n",
       "      <th>2</th>\n",
       "      <td>2</td>\n",
       "      <td>CMEI KÁTIA FAGUNDES GARCIA</td>\n",
       "      <td>kgar</td>\n",
       "      <td>RUA PROFESSORA ANA DJANIRA, 1960, NATAL-RN</td>\n",
       "      <td>-5.843191</td>\n",
       "      <td>-35.218472</td>\n",
       "    </tr>\n",
       "    <tr>\n",
       "      <th>3</th>\n",
       "      <td>3</td>\n",
       "      <td>CMEI MARIA CELONI CAMPOS</td>\n",
       "      <td>kgar</td>\n",
       "      <td>RUA BAIA FORMOSÁ, 1517, NATAL-RN</td>\n",
       "      <td>-5.821003</td>\n",
       "      <td>-35.224121</td>\n",
       "    </tr>\n",
       "    <tr>\n",
       "      <th>4</th>\n",
       "      <td>4</td>\n",
       "      <td>CMEI MOEMA TINOCO DA CUNHA LIMA</td>\n",
       "      <td>kgar</td>\n",
       "      <td>RUA JACUI, 217, NATAL-RN</td>\n",
       "      <td>-5.857922</td>\n",
       "      <td>-35.205930</td>\n",
       "    </tr>\n",
       "  </tbody>\n",
       "</table>\n",
       "</div>"
      ],
      "text/plain": [
       "   Unnamed: 0                      Institution_Name  Type  \\\n",
       "0           0            CMEI CLAUDETE COSTA MACIEL  kgar   \n",
       "1           1  CMEI HAYDEE MONTEIRO BEZERRA DE MELO  kgar   \n",
       "2           2            CMEI KÁTIA FAGUNDES GARCIA  kgar   \n",
       "3           3              CMEI MARIA CELONI CAMPOS  kgar   \n",
       "4           4       CMEI MOEMA TINOCO DA CUNHA LIMA  kgar   \n",
       "\n",
       "                                Geocode_Input       Lat        Lng  \n",
       "0       RUA SERRA DOS CARAJAS, 3160, NATAL-RN -5.857714 -35.242055  \n",
       "1              RUA JOSÉ SELEDON, 70, NATAL-RN -5.889386 -35.171153  \n",
       "2  RUA PROFESSORA ANA DJANIRA, 1960, NATAL-RN -5.843191 -35.218472  \n",
       "3            RUA BAIA FORMOSÁ, 1517, NATAL-RN -5.821003 -35.224121  \n",
       "4                    RUA JACUI, 217, NATAL-RN -5.857922 -35.205930  "
      ]
     },
     "execution_count": 148,
     "metadata": {},
     "output_type": "execute_result"
    }
   ],
   "source": [
    "# Use this cell to speed up the calc of geolocalization\n",
    "df_all_units = pd.read_csv('edunatal.csv')\n",
    "df_all_units.head()"
   ]
  },
  {
   "cell_type": "code",
   "execution_count": 157,
   "metadata": {},
   "outputs": [
    {
     "name": "stderr",
     "output_type": "stream",
     "text": [
      "36it [02:10,  3.63s/it]Status code 500 from https://maps.googleapis.com/maps/api/geocode/json: ERROR - 500 Server Error: Internal Server Error for url: https://maps.googleapis.com/maps/api/geocode/json?address=AVENIDA+DOS+CAICOS%2C+16%2C+NATAL-RN&bounds=&components=&region=&language=\n",
      "145it [09:02,  3.74s/it]\n"
     ]
    }
   ],
   "source": [
    "# Calculate the geolocation info \n",
    "for i,row in tqdm.tqdm(df_all_units.iterrows()):\n",
    "    g = geocoder.google(df_all_units.loc[i,'Geocode_Input'])\n",
    "    df_all_units.loc[i,'Lat'] = g.lat\n",
    "    df_all_units.loc[i,'Lng'] = g.lng\n",
    "    \n",
    "    # Pause the loop\n",
    "    sleep(randint(1,5))"
   ]
  },
  {
   "cell_type": "code",
   "execution_count": 165,
   "metadata": {},
   "outputs": [
    {
     "data": {
      "text/html": [
       "<div>\n",
       "<style>\n",
       "    .dataframe thead tr:only-child th {\n",
       "        text-align: right;\n",
       "    }\n",
       "\n",
       "    .dataframe thead th {\n",
       "        text-align: left;\n",
       "    }\n",
       "\n",
       "    .dataframe tbody tr th {\n",
       "        vertical-align: top;\n",
       "    }\n",
       "</style>\n",
       "<table border=\"1\" class=\"dataframe\">\n",
       "  <thead>\n",
       "    <tr style=\"text-align: right;\">\n",
       "      <th></th>\n",
       "      <th>Institution_Name</th>\n",
       "      <th>Type</th>\n",
       "      <th>Geocode_Input</th>\n",
       "      <th>Lat</th>\n",
       "      <th>Lng</th>\n",
       "    </tr>\n",
       "  </thead>\n",
       "  <tbody>\n",
       "    <tr>\n",
       "      <th>34</th>\n",
       "      <td>CMEI NOSSA SENHORA DE SANTANA</td>\n",
       "      <td>kgar</td>\n",
       "      <td>ANA PAULA BARBOSÁ, 2300, NATAL-RN</td>\n",
       "      <td>NaN</td>\n",
       "      <td>NaN</td>\n",
       "    </tr>\n",
       "    <tr>\n",
       "      <th>102</th>\n",
       "      <td>ESC MUL PROF ZUZA</td>\n",
       "      <td>Elem</td>\n",
       "      <td>MIGUEL CASTRO, SNº, NATAL-RN</td>\n",
       "      <td>NaN</td>\n",
       "      <td>NaN</td>\n",
       "    </tr>\n",
       "    <tr>\n",
       "      <th>140</th>\n",
       "      <td>ESC MUL PROFA TEREZINHA PAULINO DE LIMA</td>\n",
       "      <td>Elem</td>\n",
       "      <td>RUA MATINHOS, SEM \\nNUMERO, NATAL-RN</td>\n",
       "      <td>NaN</td>\n",
       "      <td>NaN</td>\n",
       "    </tr>\n",
       "    <tr>\n",
       "      <th>143</th>\n",
       "      <td>ESC MUL SANTA CATARINA</td>\n",
       "      <td>Elem</td>\n",
       "      <td>RUA PROF MARIA ARLETE DE L NASCIMENTO, , NATAL-RN</td>\n",
       "      <td>NaN</td>\n",
       "      <td>NaN</td>\n",
       "    </tr>\n",
       "  </tbody>\n",
       "</table>\n",
       "</div>"
      ],
      "text/plain": [
       "                            Institution_Name  Type  \\\n",
       "34             CMEI NOSSA SENHORA DE SANTANA  kgar   \n",
       "102                        ESC MUL PROF ZUZA  Elem   \n",
       "140  ESC MUL PROFA TEREZINHA PAULINO DE LIMA  Elem   \n",
       "143                   ESC MUL SANTA CATARINA  Elem   \n",
       "\n",
       "                                         Geocode_Input  Lat  Lng  \n",
       "34                   ANA PAULA BARBOSÁ, 2300, NATAL-RN  NaN  NaN  \n",
       "102                       MIGUEL CASTRO, SNº, NATAL-RN  NaN  NaN  \n",
       "140               RUA MATINHOS, SEM \\nNUMERO, NATAL-RN  NaN  NaN  \n",
       "143  RUA PROF MARIA ARLETE DE L NASCIMENTO, , NATAL-RN  NaN  NaN  "
      ]
     },
     "execution_count": 165,
     "metadata": {},
     "output_type": "execute_result"
    }
   ],
   "source": [
    "# verifty the occurence of null values\n",
    "df_all_units[df_all_units.Lat.isnull()]"
   ]
  },
  {
   "cell_type": "code",
   "execution_count": 166,
   "metadata": {},
   "outputs": [
    {
     "name": "stderr",
     "output_type": "stream",
     "text": [
      "4it [00:06,  1.65s/it]\n"
     ]
    }
   ],
   "source": [
    "# second, third, so on (...) chance for null values \n",
    "for i,row in tqdm.tqdm(df_all_units[df_all_units.Lat.isnull()].iterrows()):\n",
    "    g = geocoder.google(df_all_units.loc[i,'Geocode_Input'])\n",
    "    df_all_units.loc[i,'Lat'] = g.lat\n",
    "    df_all_units.loc[i,'Lng'] = g.lng\n",
    "    \n",
    "    # Pause the loop\n",
    "    sleep(randint(1,1))"
   ]
  },
  {
   "cell_type": "code",
   "execution_count": 167,
   "metadata": {
    "collapsed": true
   },
   "outputs": [],
   "source": [
    "# for the sake of understanding, eliminate null values from dataset\n",
    "df_all_units = df_all_units[~df_all_units.Lat.isnull()]\n",
    "\n",
    "# reset the indexes of dataframe\n",
    "df_all_units.reset_index(inplace=True,drop=True)"
   ]
  },
  {
   "cell_type": "code",
   "execution_count": 168,
   "metadata": {
    "scrolled": true
   },
   "outputs": [
    {
     "data": {
      "text/html": [
       "<div>\n",
       "<style>\n",
       "    .dataframe thead tr:only-child th {\n",
       "        text-align: right;\n",
       "    }\n",
       "\n",
       "    .dataframe thead th {\n",
       "        text-align: left;\n",
       "    }\n",
       "\n",
       "    .dataframe tbody tr th {\n",
       "        vertical-align: top;\n",
       "    }\n",
       "</style>\n",
       "<table border=\"1\" class=\"dataframe\">\n",
       "  <thead>\n",
       "    <tr style=\"text-align: right;\">\n",
       "      <th></th>\n",
       "      <th>Institution_Name</th>\n",
       "      <th>Type</th>\n",
       "      <th>Geocode_Input</th>\n",
       "      <th>Lat</th>\n",
       "      <th>Lng</th>\n",
       "    </tr>\n",
       "  </thead>\n",
       "  <tbody>\n",
       "    <tr>\n",
       "      <th>0</th>\n",
       "      <td>CMEI CLAUDETE COSTA MACIEL</td>\n",
       "      <td>kgar</td>\n",
       "      <td>RUA SERRA DOS CARAJAS, 3160, NATAL-RN</td>\n",
       "      <td>-5.857714</td>\n",
       "      <td>-35.242055</td>\n",
       "    </tr>\n",
       "    <tr>\n",
       "      <th>1</th>\n",
       "      <td>CMEI HAYDEE MONTEIRO BEZERRA DE MELO</td>\n",
       "      <td>kgar</td>\n",
       "      <td>RUA JOSÉ SELEDON, 70, NATAL-RN</td>\n",
       "      <td>-5.889386</td>\n",
       "      <td>-35.171153</td>\n",
       "    </tr>\n",
       "    <tr>\n",
       "      <th>2</th>\n",
       "      <td>CMEI KÁTIA FAGUNDES GARCIA</td>\n",
       "      <td>kgar</td>\n",
       "      <td>RUA PROFESSORA ANA DJANIRA, 1960, NATAL-RN</td>\n",
       "      <td>-5.843191</td>\n",
       "      <td>-35.218472</td>\n",
       "    </tr>\n",
       "    <tr>\n",
       "      <th>3</th>\n",
       "      <td>CMEI MARIA CELONI CAMPOS</td>\n",
       "      <td>kgar</td>\n",
       "      <td>RUA BAIA FORMOSÁ, 1517, NATAL-RN</td>\n",
       "      <td>-5.821003</td>\n",
       "      <td>-35.224121</td>\n",
       "    </tr>\n",
       "    <tr>\n",
       "      <th>4</th>\n",
       "      <td>CMEI MOEMA TINOCO DA CUNHA LIMA</td>\n",
       "      <td>kgar</td>\n",
       "      <td>RUA JACUI, 217, NATAL-RN</td>\n",
       "      <td>-5.857922</td>\n",
       "      <td>-35.205930</td>\n",
       "    </tr>\n",
       "  </tbody>\n",
       "</table>\n",
       "</div>"
      ],
      "text/plain": [
       "                       Institution_Name  Type  \\\n",
       "0            CMEI CLAUDETE COSTA MACIEL  kgar   \n",
       "1  CMEI HAYDEE MONTEIRO BEZERRA DE MELO  kgar   \n",
       "2            CMEI KÁTIA FAGUNDES GARCIA  kgar   \n",
       "3              CMEI MARIA CELONI CAMPOS  kgar   \n",
       "4       CMEI MOEMA TINOCO DA CUNHA LIMA  kgar   \n",
       "\n",
       "                                Geocode_Input       Lat        Lng  \n",
       "0       RUA SERRA DOS CARAJAS, 3160, NATAL-RN -5.857714 -35.242055  \n",
       "1              RUA JOSÉ SELEDON, 70, NATAL-RN -5.889386 -35.171153  \n",
       "2  RUA PROFESSORA ANA DJANIRA, 1960, NATAL-RN -5.843191 -35.218472  \n",
       "3            RUA BAIA FORMOSÁ, 1517, NATAL-RN -5.821003 -35.224121  \n",
       "4                    RUA JACUI, 217, NATAL-RN -5.857922 -35.205930  "
      ]
     },
     "execution_count": 168,
     "metadata": {},
     "output_type": "execute_result"
    }
   ],
   "source": [
    "# see new information\n",
    "df_all_units.head()"
   ]
  },
  {
   "cell_type": "code",
   "execution_count": 169,
   "metadata": {
    "collapsed": true
   },
   "outputs": [],
   "source": [
    "# Save the dataset to a csv file\n",
    "df_all_units.to_csv('edunatal.csv')"
   ]
  },
  {
   "cell_type": "markdown",
   "metadata": {},
   "source": [
    "7. Visualization\n",
    "==\n",
    "\n",
    "There are a huge amount of icon in [Font Awesome website](http://fontawesome.io/icons/). You just need add the adequate **prefix** information as parameter to <span style=\"background-color: #F9EBEA; color:##C0392B\">folium.Icon</span> function. \n",
    "\n",
    ">```python\n",
    "...\n",
    " icon=folium.Icon(color='red',\n",
    "                  icon_color='yellow',\n",
    "                  icon='bicycle',\n",
    "                  prefix='fa')).add_to(m)\n",
    "```\n"
   ]
  },
  {
   "cell_type": "code",
   "execution_count": 170,
   "metadata": {
    "collapsed": true
   },
   "outputs": [],
   "source": [
    "# Create a map object\n",
    "m = folium.Map(\n",
    "    location=[-5.826592, -35.212558],\n",
    "    zoom_start=12,\n",
    "    tiles='Stamen Terrain'\n",
    ")\n",
    "\n",
    "# Dictionary for colors\n",
    "unit_type_colors = {\n",
    "    'Elem': 'green',\n",
    "    'kgar': 'red',\n",
    "}\n",
    "\n",
    "# Dictionary for icons\n",
    "unit_type_icons = {\n",
    "    'Elem': 'graduation-cap',\n",
    "    'kgar': 'odnoklassniki',\n",
    "}"
   ]
  },
  {
   "cell_type": "code",
   "execution_count": 172,
   "metadata": {
    "scrolled": true
   },
   "outputs": [
    {
     "name": "stderr",
     "output_type": "stream",
     "text": [
      "141it [00:03, 37.93it/s]\n"
     ]
    },
    {
     "data": {
      "text/html": [
       "<div style=\"width:100%;\"><div style=\"position:relative;width:100%;height:0;padding-bottom:60%;\"><iframe src=\"data:text/html;charset=utf-8;base64,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\" style=\"position:absolute;width:100%;height:100%;left:0;top:0;border:none !important;\" allowfullscreen webkitallowfullscreen mozallowfullscreen></iframe></div></div>"
      ],
      "text/plain": [
       "<folium.folium.Map at 0x10e3f3320>"
      ]
     },
     "execution_count": 172,
     "metadata": {},
     "output_type": "execute_result"
    }
   ],
   "source": [
    "# Ploting the educational units on map\n",
    "for i,row in tqdm.tqdm(df_all_units.iterrows()):\n",
    "    folium.Marker([df_all_units.loc[i,'Lat'], df_all_units.loc[i,'Lng']],\n",
    "                  icon=folium.Icon(\n",
    "                          color = unit_type_colors[df_all_units.loc[i,'Type']],\n",
    "                          icon = unit_type_icons[df_all_units.loc[i,'Type']],\n",
    "                          prefix='fa'),\n",
    "                  popup = df_all_units.loc[i, 'Institution_Name']\n",
    "        ).add_to(m)\n",
    "\n",
    "# Add fullscreen button\n",
    "plugins.Fullscreen(\n",
    "    position='topright',\n",
    "    title='Expand me',\n",
    "    title_cancel='Exit me',\n",
    "    force_separate_button=True).add_to(m)\n",
    "\n",
    "m"
   ]
  },
  {
   "cell_type": "code",
   "execution_count": 176,
   "metadata": {},
   "outputs": [
    {
     "name": "stderr",
     "output_type": "stream",
     "text": [
      "141it [00:00, 8860.81it/s]\n"
     ]
    },
    {
     "data": {
      "text/plain": [
       "<folium.plugins.heat_map.HeatMap at 0x10f4f88d0>"
      ]
     },
     "execution_count": 176,
     "metadata": {},
     "output_type": "execute_result"
    }
   ],
   "source": [
    "# create a heatmap \n",
    "\n",
    "coordinates_elem = []\n",
    "coordinates_kgarten = []\n",
    "\n",
    "for i,row in tqdm.tqdm(df_all_units.iterrows()):\n",
    "    if (df_all_units.loc[i,'Type'] == 'Elem'):\n",
    "        coordinates_elem.append([df_all_units.loc[i,'Lat'], df_all_units.loc[i,'Lng'], 1])\n",
    "    else:\n",
    "        coordinates_kgarten.append([df_all_units.loc[i,'Lat'], df_all_units.loc[i,'Lng'], 1])\n",
    "        \n",
    "# Create a map object\n",
    "m_elem = folium.Map(\n",
    "    location=[-5.826592, -35.212558],\n",
    "    zoom_start=12,\n",
    "    tiles='Stamen Terrain'\n",
    ")\n",
    "\n",
    "# Create a map object\n",
    "m_kgarten = folium.Map(\n",
    "    location=[-5.826592, -35.212558],\n",
    "    zoom_start=12,\n",
    "    tiles='Stamen Terrain'\n",
    ")\n",
    "\n",
    "# Create a heat map\n",
    "HeatMap(coordinates_elem).add_to(m_elem)\n",
    "HeatMap(coordinates_kgarten).add_to(m_kgarten)\n"
   ]
  },
  {
   "cell_type": "code",
   "execution_count": 205,
   "metadata": {},
   "outputs": [
    {
     "data": {
      "text/html": [
       "<div style=\"width:100%;\"><div style=\"position:relative;width:100%;height:0;padding-bottom:60%;\"><iframe src=\"data:text/html;charset=utf-8;base64,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\" style=\"position:absolute;width:100%;height:100%;left:0;top:0;border:none !important;\" allowfullscreen webkitallowfullscreen mozallowfullscreen></iframe></div></div>"
      ],
      "text/plain": [
       "<branca.element.Div at 0x10fbe4470>"
      ]
     },
     "execution_count": 205,
     "metadata": {},
     "output_type": "execute_result"
    }
   ],
   "source": [
    "f = branca.element.Figure()\n",
    "\n",
    "d1 = f.add_subplot(1, 2, 1)\n",
    "d2 = f.add_subplot(1, 2, 2)\n",
    "\n",
    "d1.add_child(m_elem)\n",
    "d2.add_child(m_kgarten)\n"
   ]
  }
 ],
 "metadata": {
  "kernelspec": {
   "display_name": "Python 3",
   "language": "python",
   "name": "python3"
  },
  "language_info": {
   "codemirror_mode": {
    "name": "ipython",
    "version": 3
   },
   "file_extension": ".py",
   "mimetype": "text/x-python",
   "name": "python",
   "nbconvert_exporter": "python",
   "pygments_lexer": "ipython3",
   "version": "3.6.3"
  }
 },
 "nbformat": 4,
 "nbformat_minor": 2
}
